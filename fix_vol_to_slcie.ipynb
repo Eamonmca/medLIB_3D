{
 "cells": [
  {
   "cell_type": "code",
   "execution_count": 10,
   "metadata": {},
   "outputs": [
    {
     "data": {
      "text/plain": [
       "Scan Object titled LUNG, with dimensions (158, 512, 512)"
      ]
     },
     "execution_count": 10,
     "metadata": {},
     "output_type": "execute_result"
    }
   ],
   "source": [
    "from Management import medOOP_3D\n",
    "from Visualisation import medVIZ_3D\n",
    "import Parsing.parse_funcs as pf\n",
    "import numpy as np\n",
    "import cv2\n",
    "\n",
    "dicom_root_dir = \"/Users/eamonmcandrew/Desktop/ML/CT_work/Covid_Positive_CT/Covid_Positive_CT_Dicom\"\n",
    "nifti_output_root_dir = \"/Users/eamonmcandrew/Desktop/ML/CT_work/Covid_Positive_CT/Covid_Positive_CT_Nifti\"\n",
    "slice_output_root_dir = \"/Users/eamonmcandrew/Desktop/ML/CT_work/Covid_Positive_CT/Covid_Positive_Slices\"\n",
    "\n",
    "\n",
    "\n",
    "dir_list = pf.get_sub_directories(dicom_root_dir)\n",
    "dir_list = pf.inner_sub_dir_replace(dir_list) \n",
    "paired_list = pf.get_path_id_list(dir_list)\n",
    "\n",
    "\n",
    "paired_list\n",
    "Paitent_1 = medOOP_3D.Paitent(paired_list[0][0])\n",
    "\n",
    "Paitent_1.LUNG"
   ]
  },
  {
   "cell_type": "code",
   "execution_count": 11,
   "metadata": {},
   "outputs": [],
   "source": [
    "volume_3D = Paitent_1.LUNG.vol\n",
    "no_idx = Paitent_1.LUNG.vol.shape[0]\n",
    "name = \"LUNG\"\n"
   ]
  },
  {
   "cell_type": "code",
   "execution_count": 14,
   "metadata": {},
   "outputs": [
    {
     "data": {
      "text/plain": [
       "True"
      ]
     },
     "execution_count": 14,
     "metadata": {},
     "output_type": "execute_result"
    }
   ],
   "source": [
    "from os import mkdir\n",
    "\n",
    "\n",
    "image = volume_3D[100,:,:]\n",
    "# image = np.uint8(image)\n",
    "\n",
    "# cv2.imshow(\"image\", image)\n",
    "# cv2.waitKey(0)\n",
    "try:\n",
    "    mkdir(slice_output_root_dir)\n",
    "except FileExistsError:\n",
    "    pass\n",
    "\n",
    "cv2.imwrite(f\"{slice_output_root_dir}/{name}_100.png\", image)\n"
   ]
  },
  {
   "cell_type": "code",
   "execution_count": 9,
   "metadata": {},
   "outputs": [],
   "source": [
    "cv2.destroyAllWindows()\n"
   ]
  },
  {
   "cell_type": "code",
   "execution_count": 5,
   "metadata": {},
   "outputs": [
    {
     "ename": "NameError",
     "evalue": "name 'output_root_dir' is not defined",
     "output_type": "error",
     "traceback": [
      "\u001b[0;31m---------------------------------------------------------------------------\u001b[0m",
      "\u001b[0;31mNameError\u001b[0m                                 Traceback (most recent call last)",
      "\u001b[1;32m/Users/eamonmcandrew/Desktop/ML/medLIB_3D/fix_vol_to_slcie.ipynb Cell 5\u001b[0m in \u001b[0;36m<cell line: 1>\u001b[0;34m()\u001b[0m\n\u001b[1;32m      <a href='vscode-notebook-cell:/Users/eamonmcandrew/Desktop/ML/medLIB_3D/fix_vol_to_slcie.ipynb#ch0000002?line=0'>1</a>\u001b[0m \u001b[39mfor\u001b[39;00m idx \u001b[39min\u001b[39;00m \u001b[39mrange\u001b[39m(no_idx):\n\u001b[1;32m      <a href='vscode-notebook-cell:/Users/eamonmcandrew/Desktop/ML/medLIB_3D/fix_vol_to_slcie.ipynb#ch0000002?line=1'>2</a>\u001b[0m     image_name \u001b[39m=\u001b[39m (\u001b[39mf\u001b[39m\u001b[39m\"\u001b[39m\u001b[39m{\u001b[39;00mname\u001b[39m}\u001b[39;00m\u001b[39m_\u001b[39m\u001b[39m{\u001b[39;00midx\u001b[39m}\u001b[39;00m\u001b[39m.png\u001b[39m\u001b[39m\"\u001b[39m)\n\u001b[0;32m----> <a href='vscode-notebook-cell:/Users/eamonmcandrew/Desktop/ML/medLIB_3D/fix_vol_to_slcie.ipynb#ch0000002?line=2'>3</a>\u001b[0m     out_path \u001b[39m=\u001b[39m os\u001b[39m.\u001b[39mpath\u001b[39m.\u001b[39mjoin(output_root_dir, image_name)\n\u001b[1;32m      <a href='vscode-notebook-cell:/Users/eamonmcandrew/Desktop/ML/medLIB_3D/fix_vol_to_slcie.ipynb#ch0000002?line=3'>4</a>\u001b[0m     image \u001b[39m=\u001b[39m volume_3D[idx,:,:]\n\u001b[1;32m      <a href='vscode-notebook-cell:/Users/eamonmcandrew/Desktop/ML/medLIB_3D/fix_vol_to_slcie.ipynb#ch0000002?line=4'>5</a>\u001b[0m     image \u001b[39m=\u001b[39m np\u001b[39m.\u001b[39muint8(image)\n",
      "\u001b[0;31mNameError\u001b[0m: name 'output_root_dir' is not defined"
     ]
    }
   ],
   "source": [
    "for idx in range(no_idx):\n",
    "    image_name = (f\"{slice_output_root_dir}/{name}_{idx}.png\")\n",
    "    out_path = os.path.join(output_root_dir, image_name)\n",
    "    image = volume_3D[idx,:,:]\n",
    "    image = np.uint8(image)\n",
    "    print(cv2.imwrite(out_path, image))\n",
    "    slice_image_list.append(out_path)\n"
   ]
  }
 ],
 "metadata": {
  "kernelspec": {
   "display_name": "Python 3.9.13 ('ml2')",
   "language": "python",
   "name": "python3"
  },
  "language_info": {
   "codemirror_mode": {
    "name": "ipython",
    "version": 3
   },
   "file_extension": ".py",
   "mimetype": "text/x-python",
   "name": "python",
   "nbconvert_exporter": "python",
   "pygments_lexer": "ipython3",
   "version": "3.9.13"
  },
  "orig_nbformat": 4,
  "vscode": {
   "interpreter": {
    "hash": "5cd148e2076119ac64fab9a15ca7b87e9fa46b5c1a1899bbc8c1a2f25e710cd9"
   }
  }
 },
 "nbformat": 4,
 "nbformat_minor": 2
}
