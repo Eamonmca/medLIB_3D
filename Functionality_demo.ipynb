{
 "cells": [
  {
   "cell_type": "markdown",
   "metadata": {},
   "source": [
    "# Object-oriented Programming for Medical Imaging Functionality Demo"
   ]
  },
  {
   "cell_type": "markdown",
   "metadata": {},
   "source": [
    "This demonstration is intended to showcase the potential of using an object-oriented approach to manage medical image data in pyhton in preparation for ML. We will demonstrate the framework using the first 30 CT images of the following dataset https://dataverse.harvard.edu/dataset.xhtml?persistentId=doi:10.7910/DVN/6ACUZJ. \n",
    "\n",
    "The dataset consists of CT images of subjects with confirmed lung infections after a positive Covid-19 diagnosis. Each Subject has its own directory that may or may not contain additional subdirectories. Within a single one of these subdirectories for each Subject is a series of .dcm (DICOM) files accounting for several different CT scan volumes representing different types CT scans for that patient.\n",
    "\n",
    "We will demonstrate how to use the library to view and analyse the scans both individually and at a patient and dataset level. We will also demonstrate how these objects can be saved in the different file formats common in machine learning assisted medical imaging.\n",
    "\n"
   ]
  },
  {
   "cell_type": "code",
   "execution_count": 1,
   "metadata": {},
   "outputs": [],
   "source": [
    "from Management import medOOP_3D\n",
    "from Visualisation import medVIZ_3D\n",
    "import Parsing.parse_funcs as pf\n",
    "from tqdm import tqdm\n"
   ]
  },
  {
   "cell_type": "markdown",
   "metadata": {},
   "source": [
    "First, we will create a list of pairs consisting of our subject directory path and the subject title."
   ]
  },
  {
   "cell_type": "code",
   "execution_count": 2,
   "metadata": {},
   "outputs": [],
   "source": [
    "dicom_root_dir = \"/Users/eamonmcandrew/Desktop/ML/CT_work/Covid_Positive_CT/Covid_Positive_CT_Dicom\"\n",
    "nifti_output_root_dir = \"/Users/eamonmcandrew/Desktop/ML/CT_work/Covid_Positive_CT/Covid_Positive_CT_Nifti\"\n",
    "slice_output_root_dir = \"/Users/eamonmcandrew/Desktop/ML/CT_work/Covid_Positive_CT/Covid_Positive_Slices\"\n",
    "\n",
    "\n",
    "\n",
    "dir_list = pf.get_sub_directories(dicom_root_dir)\n",
    "dir_list = pf.inner_sub_dir_replace(dir_list) \n",
    "paired_list = pf.get_path_id_list(dir_list)\n",
    "\n",
    "\n"
   ]
  },
  {
   "cell_type": "markdown",
   "metadata": {},
   "source": [
    "Here is what this list looks like; as some of the patient directories contain multiple sub-directories, it's necessary to do this for this dataset to achieve a proper patient naming convention. In the future, it may be a good idea to add a regex-powered search function to do this within the library itself - but for now, this is the simplest and most customisable way of doing this."
   ]
  },
  {
   "cell_type": "code",
   "execution_count": 3,
   "metadata": {},
   "outputs": [
    {
     "data": {
      "text/plain": [
       "[('/Users/eamonmcandrew/Desktop/ML/CT_work/Covid_Positive_CT/Covid_Positive_CT_Dicom/Subject (1009)',\n",
       "  'Subject_(1009)'),\n",
       " ('/Users/eamonmcandrew/Desktop/ML/CT_work/Covid_Positive_CT/Covid_Positive_CT_Dicom/Subject (1003)',\n",
       "  'Subject_(1003)'),\n",
       " ('/Users/eamonmcandrew/Desktop/ML/CT_work/Covid_Positive_CT/Covid_Positive_CT_Dicom/Subject (1000)',\n",
       "  'Subject_(1000)')]"
      ]
     },
     "execution_count": 3,
     "metadata": {},
     "output_type": "execute_result"
    }
   ],
   "source": [
    "paired_list[:3]"
   ]
  },
  {
   "cell_type": "markdown",
   "metadata": {},
   "source": [
    "Let's use one of the pairs in this list to create a patient object and explore its functionality."
   ]
  },
  {
   "cell_type": "code",
   "execution_count": 4,
   "metadata": {},
   "outputs": [],
   "source": [
    "Patient_1 = medOOP_3D.Patient(paired_list[0][0], paired_list[0][1])\n",
    "\n",
    "\n"
   ]
  },
  {
   "cell_type": "markdown",
   "metadata": {},
   "source": [
    "First, let us check we are working with the correct patient by checking the patient ID."
   ]
  },
  {
   "cell_type": "code",
   "execution_count": 5,
   "metadata": {},
   "outputs": [
    {
     "data": {
      "text/plain": [
       "'Subject_(1009)'"
      ]
     },
     "execution_count": 5,
     "metadata": {},
     "output_type": "execute_result"
    }
   ],
   "source": [
    "Patient_1.patient_id"
   ]
  },
  {
   "cell_type": "markdown",
   "metadata": {},
   "source": [
    "We can call the patient object on its own to get a quick summary of its information. We can see here this paitent has four different scan types associated with it.\n"
   ]
  },
  {
   "cell_type": "code",
   "execution_count": 6,
   "metadata": {},
   "outputs": [
    {
     "data": {
      "text/plain": [
       "Patient Object concisting of 4 scans : UNNAMED_SERIES, LUNG_3_mm, LUNG, Mediastinum"
      ]
     },
     "execution_count": 6,
     "metadata": {},
     "output_type": "execute_result"
    }
   ],
   "source": [
    "Patient_1"
   ]
  },
  {
   "cell_type": "markdown",
   "metadata": {},
   "source": [
    "A patient object is a collection of one or more scan objects belonging to a single subject and their associated metadata. All we need to do is supply a directory and title to the Patient class creator, and it will automatically generate a Scan object for each individual scan using the underlying Dicom files in the directory.\n",
    "\n",
    "Let's take a look at the scan objects attributed to this patient."
   ]
  },
  {
   "cell_type": "code",
   "execution_count": 7,
   "metadata": {},
   "outputs": [
    {
     "data": {
      "text/plain": [
       "['UNNAMED_SERIES', 'LUNG_3_mm', 'LUNG', 'Mediastinum']"
      ]
     },
     "execution_count": 7,
     "metadata": {},
     "output_type": "execute_result"
    }
   ],
   "source": [
    "Patient_1.scan_list"
   ]
  },
  {
   "cell_type": "markdown",
   "metadata": {},
   "source": [
    "Lets now take a closer look at the scan titled \"LUNG\". We can simply call a Scan object in the same manner as a Paitent object to get a wuick sumary of its information."
   ]
  },
  {
   "cell_type": "code",
   "execution_count": 8,
   "metadata": {},
   "outputs": [
    {
     "data": {
      "text/plain": [
       "Scan Object titled LUNG, with dimensions (158, 512, 512)"
      ]
     },
     "execution_count": 8,
     "metadata": {},
     "output_type": "execute_result"
    }
   ],
   "source": [
    "Patient_1.LUNG"
   ]
  },
  {
   "cell_type": "markdown",
   "metadata": {},
   "source": [
    "If we want to quickly examine the scans, we can use the following to display the image and use the slider to examine the whole volume: *NOTE this is disabled at for 3D volumes at present because it stops GitHub from rendering the example notebook - but it should function perfectly with a local install* \n",
    "\n",
    "Because of this, we will inspect the unnamed series, which only contains a single slice making it effectively 2D."
   ]
  },
  {
   "cell_type": "code",
   "execution_count": 9,
   "metadata": {},
   "outputs": [
    {
     "data": {
      "text/html": [
       "        <script type=\"text/javascript\">\n",
       "        window.PlotlyConfig = {MathJaxConfig: 'local'};\n",
       "        if (window.MathJax && window.MathJax.Hub && window.MathJax.Hub.Config) {window.MathJax.Hub.Config({SVG: {font: \"STIX-Web\"}});}\n",
       "        if (typeof require !== 'undefined') {\n",
       "        require.undef(\"plotly\");\n",
       "        requirejs.config({\n",
       "            paths: {\n",
       "                'plotly': ['https://cdn.plot.ly/plotly-2.12.1.min']\n",
       "            }\n",
       "        });\n",
       "        require(['plotly'], function(Plotly) {\n",
       "            window._Plotly = Plotly;\n",
       "        });\n",
       "        }\n",
       "        </script>\n",
       "        "
      ]
     },
     "metadata": {},
     "output_type": "display_data"
    },
    {
     "data": {
      "text/html": [
       "<div>                            <div id=\"21fc1296-0429-4991-99d2-c50fec383941\" class=\"plotly-graph-div\" style=\"height:525px; width:100%;\"></div>            <script type=\"text/javascript\">                require([\"plotly\"], function(Plotly) {                    window.PLOTLYENV=window.PLOTLYENV || {};                                    if (document.getElementById(\"21fc1296-0429-4991-99d2-c50fec383941\")) {                    Plotly.newPlot(                        \"21fc1296-0429-4991-99d2-c50fec383941\",                        [{\"name\":\"0\",\"source\":\"data:image/png;base64,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\",\"type\":\"image\",\"xaxis\":\"x\",\"yaxis\":\"y\",\"hovertemplate\":\"x: %{x}<br>y: %{y}<extra></extra>\"}],                        {\"template\":{\"data\":{\"histogram2dcontour\":[{\"type\":\"histogram2dcontour\",\"colorbar\":{\"outlinewidth\":0,\"ticks\":\"\"},\"colorscale\":[[0.0,\"#0d0887\"],[0.1111111111111111,\"#46039f\"],[0.2222222222222222,\"#7201a8\"],[0.3333333333333333,\"#9c179e\"],[0.4444444444444444,\"#bd3786\"],[0.5555555555555556,\"#d8576b\"],[0.6666666666666666,\"#ed7953\"],[0.7777777777777778,\"#fb9f3a\"],[0.8888888888888888,\"#fdca26\"],[1.0,\"#f0f921\"]]}],\"choropleth\":[{\"type\":\"choropleth\",\"colorbar\":{\"outlinewidth\":0,\"ticks\":\"\"}}],\"histogram2d\":[{\"type\":\"histogram2d\",\"colorbar\":{\"outlinewidth\":0,\"ticks\":\"\"},\"colorscale\":[[0.0,\"#0d0887\"],[0.1111111111111111,\"#46039f\"],[0.2222222222222222,\"#7201a8\"],[0.3333333333333333,\"#9c179e\"],[0.4444444444444444,\"#bd3786\"],[0.5555555555555556,\"#d8576b\"],[0.6666666666666666,\"#ed7953\"],[0.7777777777777778,\"#fb9f3a\"],[0.8888888888888888,\"#fdca26\"],[1.0,\"#f0f921\"]]}],\"heatmap\":[{\"type\":\"heatmap\",\"colorbar\":{\"outlinewidth\":0,\"ticks\":\"\"},\"colorscale\":[[0.0,\"#0d0887\"],[0.1111111111111111,\"#46039f\"],[0.2222222222222222,\"#7201a8\"],[0.3333333333333333,\"#9c179e\"],[0.4444444444444444,\"#bd3786\"],[0.5555555555555556,\"#d8576b\"],[0.6666666666666666,\"#ed7953\"],[0.7777777777777778,\"#fb9f3a\"],[0.8888888888888888,\"#fdca26\"],[1.0,\"#f0f921\"]]}],\"heatmapgl\":[{\"type\":\"heatmapgl\",\"colorbar\":{\"outlinewidth\":0,\"ticks\":\"\"},\"colorscale\":[[0.0,\"#0d0887\"],[0.1111111111111111,\"#46039f\"],[0.2222222222222222,\"#7201a8\"],[0.3333333333333333,\"#9c179e\"],[0.4444444444444444,\"#bd3786\"],[0.5555555555555556,\"#d8576b\"],[0.6666666666666666,\"#ed7953\"],[0.7777777777777778,\"#fb9f3a\"],[0.8888888888888888,\"#fdca26\"],[1.0,\"#f0f921\"]]}],\"contourcarpet\":[{\"type\":\"contourcarpet\",\"colorbar\":{\"outlinewidth\":0,\"ticks\":\"\"}}],\"contour\":[{\"type\":\"contour\",\"colorbar\":{\"outlinewidth\":0,\"ticks\":\"\"},\"colorscale\":[[0.0,\"#0d0887\"],[0.1111111111111111,\"#46039f\"],[0.2222222222222222,\"#7201a8\"],[0.3333333333333333,\"#9c179e\"],[0.4444444444444444,\"#bd3786\"],[0.5555555555555556,\"#d8576b\"],[0.6666666666666666,\"#ed7953\"],[0.7777777777777778,\"#fb9f3a\"],[0.8888888888888888,\"#fdca26\"],[1.0,\"#f0f921\"]]}],\"surface\":[{\"type\":\"surface\",\"colorbar\":{\"outlinewidth\":0,\"ticks\":\"\"},\"colorscale\":[[0.0,\"#0d0887\"],[0.1111111111111111,\"#46039f\"],[0.2222222222222222,\"#7201a8\"],[0.3333333333333333,\"#9c179e\"],[0.4444444444444444,\"#bd3786\"],[0.5555555555555556,\"#d8576b\"],[0.6666666666666666,\"#ed7953\"],[0.7777777777777778,\"#fb9f3a\"],[0.8888888888888888,\"#fdca26\"],[1.0,\"#f0f921\"]]}],\"mesh3d\":[{\"type\":\"mesh3d\",\"colorbar\":{\"outlinewidth\":0,\"ticks\":\"\"}}],\"scatter\":[{\"fillpattern\":{\"fillmode\":\"overlay\",\"size\":10,\"solidity\":0.2},\"type\":\"scatter\"}],\"parcoords\":[{\"type\":\"parcoords\",\"line\":{\"colorbar\":{\"outlinewidth\":0,\"ticks\":\"\"}}}],\"scatterpolargl\":[{\"type\":\"scatterpolargl\",\"marker\":{\"colorbar\":{\"outlinewidth\":0,\"ticks\":\"\"}}}],\"bar\":[{\"error_x\":{\"color\":\"#2a3f5f\"},\"error_y\":{\"color\":\"#2a3f5f\"},\"marker\":{\"line\":{\"color\":\"#E5ECF6\",\"width\":0.5},\"pattern\":{\"fillmode\":\"overlay\",\"size\":10,\"solidity\":0.2}},\"type\":\"bar\"}],\"scattergeo\":[{\"type\":\"scattergeo\",\"marker\":{\"colorbar\":{\"outlinewidth\":0,\"ticks\":\"\"}}}],\"scatterpolar\":[{\"type\":\"scatterpolar\",\"marker\":{\"colorbar\":{\"outlinewidth\":0,\"ticks\":\"\"}}}],\"histogram\":[{\"marker\":{\"pattern\":{\"fillmode\":\"overlay\",\"size\":10,\"solidity\":0.2}},\"type\":\"histogram\"}],\"scattergl\":[{\"type\":\"scattergl\",\"marker\":{\"colorbar\":{\"outlinewidth\":0,\"ticks\":\"\"}}}],\"scatter3d\":[{\"type\":\"scatter3d\",\"line\":{\"colorbar\":{\"outlinewidth\":0,\"ticks\":\"\"}},\"marker\":{\"colorbar\":{\"outlinewidth\":0,\"ticks\":\"\"}}}],\"scattermapbox\":[{\"type\":\"scattermapbox\",\"marker\":{\"colorbar\":{\"outlinewidth\":0,\"ticks\":\"\"}}}],\"scatterternary\":[{\"type\":\"scatterternary\",\"marker\":{\"colorbar\":{\"outlinewidth\":0,\"ticks\":\"\"}}}],\"scattercarpet\":[{\"type\":\"scattercarpet\",\"marker\":{\"colorbar\":{\"outlinewidth\":0,\"ticks\":\"\"}}}],\"carpet\":[{\"aaxis\":{\"endlinecolor\":\"#2a3f5f\",\"gridcolor\":\"white\",\"linecolor\":\"white\",\"minorgridcolor\":\"white\",\"startlinecolor\":\"#2a3f5f\"},\"baxis\":{\"endlinecolor\":\"#2a3f5f\",\"gridcolor\":\"white\",\"linecolor\":\"white\",\"minorgridcolor\":\"white\",\"startlinecolor\":\"#2a3f5f\"},\"type\":\"carpet\"}],\"table\":[{\"cells\":{\"fill\":{\"color\":\"#EBF0F8\"},\"line\":{\"color\":\"white\"}},\"header\":{\"fill\":{\"color\":\"#C8D4E3\"},\"line\":{\"color\":\"white\"}},\"type\":\"table\"}],\"barpolar\":[{\"marker\":{\"line\":{\"color\":\"#E5ECF6\",\"width\":0.5},\"pattern\":{\"fillmode\":\"overlay\",\"size\":10,\"solidity\":0.2}},\"type\":\"barpolar\"}],\"pie\":[{\"automargin\":true,\"type\":\"pie\"}]},\"layout\":{\"autotypenumbers\":\"strict\",\"colorway\":[\"#636efa\",\"#EF553B\",\"#00cc96\",\"#ab63fa\",\"#FFA15A\",\"#19d3f3\",\"#FF6692\",\"#B6E880\",\"#FF97FF\",\"#FECB52\"],\"font\":{\"color\":\"#2a3f5f\"},\"hovermode\":\"closest\",\"hoverlabel\":{\"align\":\"left\"},\"paper_bgcolor\":\"white\",\"plot_bgcolor\":\"#E5ECF6\",\"polar\":{\"bgcolor\":\"#E5ECF6\",\"angularaxis\":{\"gridcolor\":\"white\",\"linecolor\":\"white\",\"ticks\":\"\"},\"radialaxis\":{\"gridcolor\":\"white\",\"linecolor\":\"white\",\"ticks\":\"\"}},\"ternary\":{\"bgcolor\":\"#E5ECF6\",\"aaxis\":{\"gridcolor\":\"white\",\"linecolor\":\"white\",\"ticks\":\"\"},\"baxis\":{\"gridcolor\":\"white\",\"linecolor\":\"white\",\"ticks\":\"\"},\"caxis\":{\"gridcolor\":\"white\",\"linecolor\":\"white\",\"ticks\":\"\"}},\"coloraxis\":{\"colorbar\":{\"outlinewidth\":0,\"ticks\":\"\"}},\"colorscale\":{\"sequential\":[[0.0,\"#0d0887\"],[0.1111111111111111,\"#46039f\"],[0.2222222222222222,\"#7201a8\"],[0.3333333333333333,\"#9c179e\"],[0.4444444444444444,\"#bd3786\"],[0.5555555555555556,\"#d8576b\"],[0.6666666666666666,\"#ed7953\"],[0.7777777777777778,\"#fb9f3a\"],[0.8888888888888888,\"#fdca26\"],[1.0,\"#f0f921\"]],\"sequentialminus\":[[0.0,\"#0d0887\"],[0.1111111111111111,\"#46039f\"],[0.2222222222222222,\"#7201a8\"],[0.3333333333333333,\"#9c179e\"],[0.4444444444444444,\"#bd3786\"],[0.5555555555555556,\"#d8576b\"],[0.6666666666666666,\"#ed7953\"],[0.7777777777777778,\"#fb9f3a\"],[0.8888888888888888,\"#fdca26\"],[1.0,\"#f0f921\"]],\"diverging\":[[0,\"#8e0152\"],[0.1,\"#c51b7d\"],[0.2,\"#de77ae\"],[0.3,\"#f1b6da\"],[0.4,\"#fde0ef\"],[0.5,\"#f7f7f7\"],[0.6,\"#e6f5d0\"],[0.7,\"#b8e186\"],[0.8,\"#7fbc41\"],[0.9,\"#4d9221\"],[1,\"#276419\"]]},\"xaxis\":{\"gridcolor\":\"white\",\"linecolor\":\"white\",\"ticks\":\"\",\"title\":{\"standoff\":15},\"zerolinecolor\":\"white\",\"automargin\":true,\"zerolinewidth\":2},\"yaxis\":{\"gridcolor\":\"white\",\"linecolor\":\"white\",\"ticks\":\"\",\"title\":{\"standoff\":15},\"zerolinecolor\":\"white\",\"automargin\":true,\"zerolinewidth\":2},\"scene\":{\"xaxis\":{\"backgroundcolor\":\"#E5ECF6\",\"gridcolor\":\"white\",\"linecolor\":\"white\",\"showbackground\":true,\"ticks\":\"\",\"zerolinecolor\":\"white\",\"gridwidth\":2},\"yaxis\":{\"backgroundcolor\":\"#E5ECF6\",\"gridcolor\":\"white\",\"linecolor\":\"white\",\"showbackground\":true,\"ticks\":\"\",\"zerolinecolor\":\"white\",\"gridwidth\":2},\"zaxis\":{\"backgroundcolor\":\"#E5ECF6\",\"gridcolor\":\"white\",\"linecolor\":\"white\",\"showbackground\":true,\"ticks\":\"\",\"zerolinecolor\":\"white\",\"gridwidth\":2}},\"shapedefaults\":{\"line\":{\"color\":\"#2a3f5f\"}},\"annotationdefaults\":{\"arrowcolor\":\"#2a3f5f\",\"arrowhead\":0,\"arrowwidth\":1},\"geo\":{\"bgcolor\":\"white\",\"landcolor\":\"#E5ECF6\",\"subunitcolor\":\"white\",\"showland\":true,\"showlakes\":true,\"lakecolor\":\"white\"},\"title\":{\"x\":0.05},\"mapbox\":{\"style\":\"light\"}}},\"xaxis\":{\"anchor\":\"y\",\"domain\":[0.0,1.0]},\"yaxis\":{\"anchor\":\"x\",\"domain\":[0.0,1.0]},\"title\":{\"text\":\"UNNAMED_SERIES\"}},                        {\"responsive\": true}                    ).then(function(){\n",
       "                            \n",
       "var gd = document.getElementById('21fc1296-0429-4991-99d2-c50fec383941');\n",
       "var x = new MutationObserver(function (mutations, observer) {{\n",
       "        var display = window.getComputedStyle(gd).display;\n",
       "        if (!display || display === 'none') {{\n",
       "            console.log([gd, 'removed!']);\n",
       "            Plotly.purge(gd);\n",
       "            observer.disconnect();\n",
       "        }}\n",
       "}});\n",
       "\n",
       "// Listen for the removal of the full notebook cells\n",
       "var notebookContainer = gd.closest('#notebook-container');\n",
       "if (notebookContainer) {{\n",
       "    x.observe(notebookContainer, {childList: true});\n",
       "}}\n",
       "\n",
       "// Listen for the clearing of the current output cell\n",
       "var outputEl = gd.closest('.output');\n",
       "if (outputEl) {{\n",
       "    x.observe(outputEl, {childList: true});\n",
       "}}\n",
       "\n",
       "                        })                };                });            </script>        </div>"
      ]
     },
     "metadata": {},
     "output_type": "display_data"
    }
   ],
   "source": [
    "Patient_1.UNNAMED_SERIES.display()"
   ]
  },
  {
   "cell_type": "markdown",
   "metadata": {},
   "source": [
    "We can quickly write this scan to a directory of choice in several different formats; here will convert the 3D volume into 2D axial slices in PNG format."
   ]
  },
  {
   "cell_type": "code",
   "execution_count": 10,
   "metadata": {},
   "outputs": [],
   "source": [
    "Patient_1.LUNG.to_slices(slice_output_root_dir)"
   ]
  },
  {
   "cell_type": "markdown",
   "metadata": {},
   "source": [
    "Working at the patient level is excellent, but we often must work with large datasets. We can easily do this by loading the entire list into the Dataset class creator. "
   ]
  },
  {
   "cell_type": "code",
   "execution_count": 11,
   "metadata": {},
   "outputs": [
    {
     "name": "stderr",
     "output_type": "stream",
     "text": [
      "Processing Subject_1002: 100%|██████████| 30/30 [00:35<00:00,  1.18s/it]\n"
     ]
    }
   ],
   "source": [
    "Dataset_1 = medOOP_3D.Dataset(paired_list)\n"
   ]
  },
  {
   "cell_type": "markdown",
   "metadata": {},
   "source": [
    "The creator will automatically create a patient object for each subject and also create a Scan object for each scan attributed to that patient.\n",
    "\n",
    "In this manner, let's examine the patient example we have used at each stage."
   ]
  },
  {
   "cell_type": "code",
   "execution_count": 12,
   "metadata": {},
   "outputs": [
    {
     "data": {
      "text/plain": [
       "Patient Object concisting of 4 scans : UNNAMED_SERIES, LUNG_3_mm, LUNG, Mediastinum"
      ]
     },
     "execution_count": 12,
     "metadata": {},
     "output_type": "execute_result"
    }
   ],
   "source": [
    "Dataset_1.Subject_1009"
   ]
  },
  {
   "cell_type": "markdown",
   "metadata": {},
   "source": [
    "Let's take a look at another patient in the dataset, and we can easily select one because type hints will display the patients in the dataset. As you can see, this patient actually has a different number of scans compared to the previous example."
   ]
  },
  {
   "cell_type": "code",
   "execution_count": 13,
   "metadata": {},
   "outputs": [
    {
     "data": {
      "text/plain": [
       "Patient Object concisting of 5 scans : UNNAMED_SERIES, Mediastinum, Lung, Lung_1.5, Mediastinum_1.5"
      ]
     },
     "execution_count": 13,
     "metadata": {},
     "output_type": "execute_result"
    }
   ],
   "source": [
    "Dataset_1.Subject_102"
   ]
  },
  {
   "cell_type": "markdown",
   "metadata": {},
   "source": [
    "We can have a closer look at the scans attributed to this patient."
   ]
  },
  {
   "cell_type": "code",
   "execution_count": 14,
   "metadata": {},
   "outputs": [
    {
     "data": {
      "text/plain": [
       "['UNNAMED_SERIES', 'Mediastinum', 'Lung', 'Lung_1.5', 'Mediastinum_1.5']"
      ]
     },
     "execution_count": 14,
     "metadata": {},
     "output_type": "execute_result"
    }
   ],
   "source": [
    "Dataset_1.Subject_102.scan_list"
   ]
  },
  {
   "cell_type": "markdown",
   "metadata": {},
   "source": [
    "Perhaps a more detailed description of each scan will help us understand what's going on here."
   ]
  },
  {
   "cell_type": "code",
   "execution_count": 15,
   "metadata": {},
   "outputs": [
    {
     "name": "stdout",
     "output_type": "stream",
     "text": [
      "Scan Object titled UNNAMED_SERIES, with dimensions (1, 512, 512)\n",
      "Scan Object titled Mediastinum, with dimensions (46, 512, 512)\n",
      "Scan Object titled Lung, with dimensions (37, 512, 512)\n",
      "Scan Object titled Lung_1.5, with dimensions (181, 512, 512)\n",
      "Scan Object titled Mediastinum_1.5, with dimensions (181, 512, 512)\n"
     ]
    }
   ],
   "source": [
    "for scan in Dataset_1.Subject_102:\n",
    "    print(scan)"
   ]
  },
  {
   "cell_type": "markdown",
   "metadata": {},
   "source": [
    "We now have a Dataset object that consists of 30 patients with at least four distinct scan objects each."
   ]
  },
  {
   "cell_type": "code",
   "execution_count": 16,
   "metadata": {},
   "outputs": [
    {
     "data": {
      "text/plain": [
       "30"
      ]
     },
     "execution_count": 16,
     "metadata": {},
     "output_type": "execute_result"
    }
   ],
   "source": [
    "Dataset_1.num_patients"
   ]
  },
  {
   "cell_type": "markdown",
   "metadata": {},
   "source": [
    "Here we will quickly list the patients by their IDs to ensure they are all correct."
   ]
  },
  {
   "cell_type": "code",
   "execution_count": 17,
   "metadata": {},
   "outputs": [
    {
     "data": {
      "text/plain": [
       "['Subject_1009',\n",
       " 'Subject_1003',\n",
       " 'Subject_1000',\n",
       " 'Subject_1011',\n",
       " 'Subject_1018',\n",
       " 'Subject_1012',\n",
       " 'Subject_102',\n",
       " 'Subject_1016',\n",
       " 'Subject_10',\n",
       " 'Subject_1015',\n",
       " 'Subject_101',\n",
       " 'Subject_1021',\n",
       " 'Subject_1004',\n",
       " 'Subject_1022',\n",
       " 'Subject_1007',\n",
       " 'Subject_1023',\n",
       " 'Subject_1006',\n",
       " 'Subject_1020',\n",
       " 'Subject_1005',\n",
       " 'Subject_1014',\n",
       " 'Subject_100',\n",
       " 'Subject_1017',\n",
       " 'Subject_1019',\n",
       " 'Subject_1013',\n",
       " 'Subject_1',\n",
       " 'Subject_1010',\n",
       " 'Subject_1024',\n",
       " 'Subject_1001',\n",
       " 'Subject_1008',\n",
       " 'Subject_1002']"
      ]
     },
     "execution_count": 17,
     "metadata": {},
     "output_type": "execute_result"
    }
   ],
   "source": [
    "Dataset_1.patient_list"
   ]
  },
  {
   "cell_type": "markdown",
   "metadata": {},
   "source": [
    "In order to demonstrate the composability of the Dataset, Patient and Scan objects, I have chosen to write these functions here. In the finished version, these and other similar functionality will have dedicated function calls, but these will serve as an example of the power enabled by the object-oriented approach."
   ]
  },
  {
   "cell_type": "markdown",
   "metadata": {},
   "source": [
    "First, let us create a directory of PNG slices for each patient scan titled \"LUNG\". This task takes six lines of code to complete (fancy progress bar included) and is highly customisable to allow a user to select precisely which patients and scans they desire."
   ]
  },
  {
   "cell_type": "code",
   "execution_count": 18,
   "metadata": {},
   "outputs": [
    {
     "name": "stderr",
     "output_type": "stream",
     "text": [
      "  0%|          | 0/30 [00:00<?, ?it/s]\n"
     ]
    },
    {
     "ename": "AttributeError",
     "evalue": "'Scan' object has no attribute 'Vol_to_slices'",
     "output_type": "error",
     "traceback": [
      "\u001b[0;31m---------------------------------------------------------------------------\u001b[0m",
      "\u001b[0;31mAttributeError\u001b[0m                            Traceback (most recent call last)",
      "\u001b[1;32m/Users/eamonmcandrew/Desktop/ML/medLIB_3D/Functionality_demo.ipynb Cell 38\u001b[0m in \u001b[0;36m<cell line: 2>\u001b[0;34m()\u001b[0m\n\u001b[1;32m      <a href='vscode-notebook-cell:/Users/eamonmcandrew/Desktop/ML/medLIB_3D/Functionality_demo.ipynb#X50sZmlsZQ%3D%3D?line=2'>3</a>\u001b[0m \u001b[39mfor\u001b[39;00m scan \u001b[39min\u001b[39;00m patient:\n\u001b[1;32m      <a href='vscode-notebook-cell:/Users/eamonmcandrew/Desktop/ML/medLIB_3D/Functionality_demo.ipynb#X50sZmlsZQ%3D%3D?line=3'>4</a>\u001b[0m     \u001b[39mif\u001b[39;00m scan\u001b[39m.\u001b[39mtitle \u001b[39m==\u001b[39m \u001b[39m\"\u001b[39m\u001b[39mLUNG\u001b[39m\u001b[39m\"\u001b[39m:\n\u001b[0;32m----> <a href='vscode-notebook-cell:/Users/eamonmcandrew/Desktop/ML/medLIB_3D/Functionality_demo.ipynb#X50sZmlsZQ%3D%3D?line=4'>5</a>\u001b[0m         scan\u001b[39m.\u001b[39;49mVol_to_slices(slice_output_root_dir)\n\u001b[1;32m      <a href='vscode-notebook-cell:/Users/eamonmcandrew/Desktop/ML/medLIB_3D/Functionality_demo.ipynb#X50sZmlsZQ%3D%3D?line=5'>6</a>\u001b[0m         pbar\u001b[39m.\u001b[39mset_description(\u001b[39mf\u001b[39m\u001b[39m\"\u001b[39m\u001b[39mCreating PNG slices for \u001b[39m\u001b[39m{\u001b[39;00mpatient\u001b[39m.\u001b[39mpatient_id\u001b[39m}\u001b[39;00m\u001b[39m : \u001b[39m\u001b[39m{\u001b[39;00mscan\u001b[39m.\u001b[39mtitle\u001b[39m}\u001b[39;00m\u001b[39m\"\u001b[39m)\n",
      "\u001b[0;31mAttributeError\u001b[0m: 'Scan' object has no attribute 'Vol_to_slices'"
     ]
    }
   ],
   "source": [
    "pbar = tqdm(Dataset_1)\n",
    "for patient in pbar:\n",
    "    for scan in patient:\n",
    "        if scan.title == \"LUNG\":\n",
    "            scan.to_slices(slice_output_root_dir)\n",
    "            pbar.set_description(f\"Creating PNG slices for {patient.patient_id} : {scan.title}\")\n",
    "\n",
    "           "
   ]
  },
  {
   "cell_type": "markdown",
   "metadata": {},
   "source": [
    "Now we shall do the same thing, but instead of slices, let us generate a NIfti file for each of the \"LUNG\" scans."
   ]
  },
  {
   "cell_type": "code",
   "execution_count": null,
   "metadata": {},
   "outputs": [
    {
     "name": "stderr",
     "output_type": "stream",
     "text": [
      "Creating Nifti file for Subject_1002 : LUNG: 100%|██████████| 30/30 [01:37<00:00,  3.24s/it]\n"
     ]
    }
   ],
   "source": [
    "pbar = tqdm(Dataset_1)\n",
    "for patient in pbar:\n",
    "    for scan in patient:\n",
    "        if scan.title == \"LUNG\":\n",
    "            scan.to_nifti(nifti_output_root_dir)\n",
    "            pbar.set_description(f\"Creating Nifti file for {patient.patient_id} : {scan.title}\")\n"
   ]
  },
  {
   "cell_type": "markdown",
   "metadata": {},
   "source": [
    "The complete Dataset we are working with has the CT image data for 1000 unique patients, and it's interesting to note the different number of scans attributed to each patient, even in the first 30 patients.\n",
    "\n",
    "Here we can print the number of scans each patient in the dataset has in a very efficient and pythonic manner using list comprehension. We can also see that calling len() on a Patient object returns the number of scans."
   ]
  },
  {
   "cell_type": "code",
   "execution_count": null,
   "metadata": {},
   "outputs": [
    {
     "name": "stdout",
     "output_type": "stream",
     "text": [
      "Number of scans per patient : [4, 4, 4, 4, 4, 4, 5, 4, 3, 4, 4, 4, 4, 4, 4, 4, 4, 4, 4, 4, 5, 4, 4, 4, 5, 4, 4, 4, 4, 4]\n"
     ]
    }
   ],
   "source": [
    "print(\"Number of scans per patient :\",[len(patient) for patient in Dataset_1])"
   ]
  },
  {
   "cell_type": "code",
   "execution_count": null,
   "metadata": {},
   "outputs": [
    {
     "data": {
      "text/plain": [
       "30"
      ]
     },
     "execution_count": 21,
     "metadata": {},
     "output_type": "execute_result"
    }
   ],
   "source": [
    "len(Dataset_1)"
   ]
  },
  {
   "cell_type": "code",
   "execution_count": null,
   "metadata": {},
   "outputs": [],
   "source": []
  }
 ],
 "metadata": {
  "kernelspec": {
   "display_name": "Python 3.9.13 ('ml2')",
   "language": "python",
   "name": "python3"
  },
  "language_info": {
   "codemirror_mode": {
    "name": "ipython",
    "version": 3
   },
   "file_extension": ".py",
   "mimetype": "text/x-python",
   "name": "python",
   "nbconvert_exporter": "python",
   "pygments_lexer": "ipython3",
   "version": "3.9.13"
  },
  "orig_nbformat": 4,
  "vscode": {
   "interpreter": {
    "hash": "5cd148e2076119ac64fab9a15ca7b87e9fa46b5c1a1899bbc8c1a2f25e710cd9"
   }
  }
 },
 "nbformat": 4,
 "nbformat_minor": 2
}
