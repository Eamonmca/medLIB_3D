{
 "cells": [
  {
   "cell_type": "code",
   "execution_count": 1,
   "metadata": {},
   "outputs": [],
   "source": [
    "from Management import medOOP_3D\n",
    "from Visualisation import medVIZ_3D\n",
    "import Parsing.parse_funcs as pf\n",
    "from tqdm import tqdm\n"
   ]
  },
  {
   "cell_type": "code",
   "execution_count": 2,
   "metadata": {},
   "outputs": [],
   "source": [
    "dicom_root_dir = \"/Users/eamonmcandrew/Desktop/ML/CT_work/Covid_Positive_CT/Covid_Positive_CT_Dicom\"\n",
    "nifti_output_root_dir = \"/Users/eamonmcandrew/Desktop/ML/CT_work/Covid_Positive_CT/Covid_Positive_CT_Nifti\"\n",
    "slice_output_root_dir = \"/Users/eamonmcandrew/Desktop/ML/CT_work/Covid_Positive_CT/Covid_Positive_Slices\"\n",
    "\n",
    "\n",
    "\n",
    "dir_list = pf.get_sub_directories(dicom_root_dir)\n",
    "dir_list = pf.inner_sub_dir_replace(dir_list) \n",
    "paired_list = pf.get_path_id_list(dir_list)\n",
    "\n",
    "\n"
   ]
  },
  {
   "cell_type": "code",
   "execution_count": 3,
   "metadata": {},
   "outputs": [
    {
     "data": {
      "text/plain": [
       "[('/Users/eamonmcandrew/Desktop/ML/CT_work/Covid_Positive_CT/Covid_Positive_CT_Dicom/Subject (1009)',\n",
       "  'Subject_(1009)'),\n",
       " ('/Users/eamonmcandrew/Desktop/ML/CT_work/Covid_Positive_CT/Covid_Positive_CT_Dicom/Subject (1003)',\n",
       "  'Subject_(1003)'),\n",
       " ('/Users/eamonmcandrew/Desktop/ML/CT_work/Covid_Positive_CT/Covid_Positive_CT_Dicom/Subject (1000)',\n",
       "  'Subject_(1000)')]"
      ]
     },
     "execution_count": 3,
     "metadata": {},
     "output_type": "execute_result"
    }
   ],
   "source": [
    "paired_list[:3]"
   ]
  },
  {
   "cell_type": "code",
   "execution_count": 4,
   "metadata": {},
   "outputs": [],
   "source": [
    "Paitent_1 = medOOP_3D.Paitent(paired_list[0][0], paired_list[0][1])\n",
    "\n",
    "\n"
   ]
  },
  {
   "cell_type": "code",
   "execution_count": 5,
   "metadata": {},
   "outputs": [
    {
     "data": {
      "text/plain": [
       "'Subject_(1009)'"
      ]
     },
     "execution_count": 5,
     "metadata": {},
     "output_type": "execute_result"
    }
   ],
   "source": [
    "Paitent_1._paitent_ID"
   ]
  },
  {
   "cell_type": "code",
   "execution_count": 6,
   "metadata": {},
   "outputs": [],
   "source": [
    "Paitent_1.LUNG.Vol_to_slices(slice_output_root_dir)"
   ]
  },
  {
   "cell_type": "code",
   "execution_count": 7,
   "metadata": {},
   "outputs": [
    {
     "data": {
      "text/plain": [
       "Scan Object titled LUNG, with dimensions (158, 512, 512)"
      ]
     },
     "execution_count": 7,
     "metadata": {},
     "output_type": "execute_result"
    }
   ],
   "source": [
    "Paitent_1.LUNG"
   ]
  },
  {
   "cell_type": "code",
   "execution_count": 8,
   "metadata": {},
   "outputs": [],
   "source": [
    "# Paitent_1.LUNG.display_3D_volume()"
   ]
  },
  {
   "cell_type": "code",
   "execution_count": 9,
   "metadata": {},
   "outputs": [
    {
     "name": "stderr",
     "output_type": "stream",
     "text": [
      "100%|██████████| 30/30 [00:37<00:00,  1.24s/it]\n"
     ]
    }
   ],
   "source": [
    "Dataset_1 = medOOP_3D.Dataset(paired_list)\n"
   ]
  },
  {
   "cell_type": "code",
   "execution_count": 10,
   "metadata": {},
   "outputs": [
    {
     "data": {
      "text/plain": [
       "Paitent Object concisting of 4 scans : UNNAMED_SERIES, LUNG_3_mm, LUNG, Mediastinum"
      ]
     },
     "execution_count": 10,
     "metadata": {},
     "output_type": "execute_result"
    }
   ],
   "source": [
    "Dataset_1.Subject_1009"
   ]
  },
  {
   "cell_type": "code",
   "execution_count": 11,
   "metadata": {},
   "outputs": [
    {
     "data": {
      "text/plain": [
       "30"
      ]
     },
     "execution_count": 11,
     "metadata": {},
     "output_type": "execute_result"
    }
   ],
   "source": [
    "Dataset_1.num_paitents"
   ]
  },
  {
   "cell_type": "code",
   "execution_count": 12,
   "metadata": {},
   "outputs": [
    {
     "data": {
      "text/plain": [
       "['Subject_1009',\n",
       " 'Subject_1003',\n",
       " 'Subject_1000',\n",
       " 'Subject_1011',\n",
       " 'Subject_1018',\n",
       " 'Subject_1012',\n",
       " 'Subject_102',\n",
       " 'Subject_1016',\n",
       " 'Subject_10',\n",
       " 'Subject_1015',\n",
       " 'Subject_101',\n",
       " 'Subject_1021',\n",
       " 'Subject_1004',\n",
       " 'Subject_1022',\n",
       " 'Subject_1007',\n",
       " 'Subject_1023',\n",
       " 'Subject_1006',\n",
       " 'Subject_1020',\n",
       " 'Subject_1005',\n",
       " 'Subject_1014',\n",
       " 'Subject_100',\n",
       " 'Subject_1017',\n",
       " 'Subject_1019',\n",
       " 'Subject_1013',\n",
       " 'Subject_1',\n",
       " 'Subject_1010',\n",
       " 'Subject_1024',\n",
       " 'Subject_1001',\n",
       " 'Subject_1008',\n",
       " 'Subject_1002']"
      ]
     },
     "execution_count": 12,
     "metadata": {},
     "output_type": "execute_result"
    }
   ],
   "source": [
    "Dataset_1.paitent_list"
   ]
  },
  {
   "cell_type": "code",
   "execution_count": 13,
   "metadata": {},
   "outputs": [
    {
     "name": "stderr",
     "output_type": "stream",
     "text": [
      "30it [00:17,  1.68it/s]\n"
     ]
    }
   ],
   "source": [
    "for paitent in tqdm(Dataset_1):\n",
    "    for scan in paitent:\n",
    "        if scan.title == \"LUNG\":\n",
    "            scan.Vol_to_slices(slice_output_root_dir)\n",
    "           "
   ]
  },
  {
   "cell_type": "code",
   "execution_count": 14,
   "metadata": {},
   "outputs": [
    {
     "name": "stderr",
     "output_type": "stream",
     "text": [
      "30it [01:43,  3.45s/it]\n"
     ]
    }
   ],
   "source": [
    "for paitent in tqdm(Dataset_1):\n",
    "    for scan in paitent:\n",
    "        if scan.title == \"LUNG\":\n",
    "            scan.write_nifti(nifti_output_root_dir)"
   ]
  },
  {
   "cell_type": "code",
   "execution_count": null,
   "metadata": {},
   "outputs": [],
   "source": []
  },
  {
   "cell_type": "code",
   "execution_count": null,
   "metadata": {},
   "outputs": [],
   "source": [
    "\n"
   ]
  },
  {
   "cell_type": "code",
   "execution_count": null,
   "metadata": {},
   "outputs": [],
   "source": []
  },
  {
   "cell_type": "code",
   "execution_count": null,
   "metadata": {},
   "outputs": [],
   "source": []
  }
 ],
 "metadata": {
  "kernelspec": {
   "display_name": "Python 3.9.13 ('ml2')",
   "language": "python",
   "name": "python3"
  },
  "language_info": {
   "codemirror_mode": {
    "name": "ipython",
    "version": 3
   },
   "file_extension": ".py",
   "mimetype": "text/x-python",
   "name": "python",
   "nbconvert_exporter": "python",
   "pygments_lexer": "ipython3",
   "version": "3.9.13"
  },
  "orig_nbformat": 4,
  "vscode": {
   "interpreter": {
    "hash": "5cd148e2076119ac64fab9a15ca7b87e9fa46b5c1a1899bbc8c1a2f25e710cd9"
   }
  }
 },
 "nbformat": 4,
 "nbformat_minor": 2
}
