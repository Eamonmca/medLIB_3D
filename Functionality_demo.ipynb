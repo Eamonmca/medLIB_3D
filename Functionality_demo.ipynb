{
 "cells": [
  {
   "cell_type": "markdown",
   "metadata": {},
   "source": [
    "# Object-oriented Programming for Medical Imaging Functionality Demo"
   ]
  },
  {
   "cell_type": "code",
   "execution_count": 1,
   "metadata": {},
   "outputs": [],
   "source": [
    "from Management import medOOP_3D\n",
    "from Visualisation import medVIZ_3D\n",
    "import Parsing.parse_funcs as pf\n",
    "from tqdm import tqdm\n"
   ]
  },
  {
   "cell_type": "markdown",
   "metadata": {},
   "source": [
    "First, we will create a list of pairs consisting of our subject directory path and the subject title."
   ]
  },
  {
   "cell_type": "code",
   "execution_count": 2,
   "metadata": {},
   "outputs": [],
   "source": [
    "dicom_root_dir = \"/Users/eamonmcandrew/Desktop/ML/CT_work/Covid_Positive_CT/Covid_Positive_CT_Dicom\"\n",
    "nifti_output_root_dir = \"/Users/eamonmcandrew/Desktop/ML/CT_work/Covid_Positive_CT/Covid_Positive_CT_Nifti\"\n",
    "slice_output_root_dir = \"/Users/eamonmcandrew/Desktop/ML/CT_work/Covid_Positive_CT/Covid_Positive_Slices\"\n",
    "\n",
    "\n",
    "\n",
    "dir_list = pf.get_sub_directories(dicom_root_dir)\n",
    "dir_list = pf.inner_sub_dir_replace(dir_list) \n",
    "paired_list = pf.get_path_id_list(dir_list)\n",
    "\n",
    "\n"
   ]
  },
  {
   "cell_type": "markdown",
   "metadata": {},
   "source": [
    "Here is what this list looks like; as some of the patient directories contain multiple sub-directories, it's necessary to do this for this dataset to achieve a proper patient naming convention. In the future, it may be a good idea to add a regex-powered search function to do this within the library itself - but for now, this is the simplest and most customisable way of doing this."
   ]
  },
  {
   "cell_type": "code",
   "execution_count": 3,
   "metadata": {},
   "outputs": [
    {
     "data": {
      "text/plain": [
       "[('/Users/eamonmcandrew/Desktop/ML/CT_work/Covid_Positive_CT/Covid_Positive_CT_Dicom/Subject (1009)',\n",
       "  'Subject_(1009)'),\n",
       " ('/Users/eamonmcandrew/Desktop/ML/CT_work/Covid_Positive_CT/Covid_Positive_CT_Dicom/Subject (1003)',\n",
       "  'Subject_(1003)'),\n",
       " ('/Users/eamonmcandrew/Desktop/ML/CT_work/Covid_Positive_CT/Covid_Positive_CT_Dicom/Subject (1000)',\n",
       "  'Subject_(1000)')]"
      ]
     },
     "execution_count": 3,
     "metadata": {},
     "output_type": "execute_result"
    }
   ],
   "source": [
    "paired_list[:3]"
   ]
  },
  {
   "cell_type": "markdown",
   "metadata": {},
   "source": [
    "Let's use one of the pairs in this list to create a patient object and explore its functionality."
   ]
  },
  {
   "cell_type": "code",
   "execution_count": 4,
   "metadata": {},
   "outputs": [],
   "source": [
    "Paitent_1 = medOOP_3D.Paitent(paired_list[0][0], paired_list[0][1])\n",
    "\n",
    "\n"
   ]
  },
  {
   "cell_type": "markdown",
   "metadata": {},
   "source": [
    "First, let us check we are working with the correct patient by checking the patient ID."
   ]
  },
  {
   "cell_type": "code",
   "execution_count": 5,
   "metadata": {},
   "outputs": [
    {
     "data": {
      "text/plain": [
       "'Subject_(1009)'"
      ]
     },
     "execution_count": 5,
     "metadata": {},
     "output_type": "execute_result"
    }
   ],
   "source": [
    "Paitent_1._paitent_ID"
   ]
  },
  {
   "cell_type": "markdown",
   "metadata": {},
   "source": [
    "A patient object is a collection of one or more scan objects belonging to a single subject and their associated metadata. All we need to do is supply a directory and title to the class creator, and it will automatically generate a Scan object for each individual scan using the underlying Dicom files in the directory.\n",
    "\n",
    "Let's take a look at the scan objects attributed to this patient."
   ]
  },
  {
   "cell_type": "code",
   "execution_count": 6,
   "metadata": {},
   "outputs": [
    {
     "data": {
      "text/plain": [
       "['UNNAMED_SERIES', 'LUNG_3_mm', 'LUNG', 'Mediastinum']"
      ]
     },
     "execution_count": 6,
     "metadata": {},
     "output_type": "execute_result"
    }
   ],
   "source": [
    "Paitent_1.scan_list"
   ]
  },
  {
   "cell_type": "markdown",
   "metadata": {},
   "source": [
    "Lets now take a closer look at the scan titled \"LUNG\""
   ]
  },
  {
   "cell_type": "code",
   "execution_count": 7,
   "metadata": {},
   "outputs": [
    {
     "data": {
      "text/plain": [
       "Scan Object titled LUNG, with dimensions (158, 512, 512)"
      ]
     },
     "execution_count": 7,
     "metadata": {},
     "output_type": "execute_result"
    }
   ],
   "source": [
    "Paitent_1.LUNG"
   ]
  },
  {
   "cell_type": "markdown",
   "metadata": {},
   "source": [
    "We can quickly write this scan to a directory of choice in several different formats; here will convert the 3D volume into 3D axial slices in PNG format."
   ]
  },
  {
   "cell_type": "code",
   "execution_count": 8,
   "metadata": {},
   "outputs": [],
   "source": [
    "Paitent_1.LUNG.Vol_to_slices(slice_output_root_dir)"
   ]
  },
  {
   "cell_type": "markdown",
   "metadata": {},
   "source": [
    "If we want to quickly examine the scans, we can use the following to display the image and use the slider to examine the whole volume: *NOTE this is disabled at present because it stops GitHub from rendering the example notebook - but it should function perfectly with a local install*"
   ]
  },
  {
   "cell_type": "code",
   "execution_count": 9,
   "metadata": {},
   "outputs": [],
   "source": [
    "# Paitent_1.LUNG.display_3D_volume()"
   ]
  },
  {
   "cell_type": "markdown",
   "metadata": {},
   "source": [
    "Working at the patient level is excellent, but we often must work with large datasets. We can easily do this by loading the entire list into the Dataset class creator. "
   ]
  },
  {
   "cell_type": "code",
   "execution_count": 10,
   "metadata": {},
   "outputs": [
    {
     "name": "stderr",
     "output_type": "stream",
     "text": [
      "Processing Subject_1002: 100%|██████████| 30/30 [00:34<00:00,  1.16s/it]\n"
     ]
    }
   ],
   "source": [
    "Dataset_1 = medOOP_3D.Dataset(paired_list)\n"
   ]
  },
  {
   "cell_type": "markdown",
   "metadata": {},
   "source": [
    "The creator will automatically create a patient object for each subject and also create a Scan object for each scan attributed to that patient.\n",
    "\n",
    "In this manner, let's examine the patient example we have used at each stage."
   ]
  },
  {
   "cell_type": "code",
   "execution_count": 11,
   "metadata": {},
   "outputs": [
    {
     "data": {
      "text/plain": [
       "Paitent Object concisting of 4 scans : UNNAMED_SERIES, LUNG_3_mm, LUNG, Mediastinum"
      ]
     },
     "execution_count": 11,
     "metadata": {},
     "output_type": "execute_result"
    }
   ],
   "source": [
    "Dataset_1.Subject_1009"
   ]
  },
  {
   "cell_type": "markdown",
   "metadata": {},
   "source": [
    "Let's take a look at another patient in the dataset, and we can easily select one because type hints will display the patients in the dataset. As you can see, this patient actually has a different number of scans compared to the previous example."
   ]
  },
  {
   "cell_type": "code",
   "execution_count": 12,
   "metadata": {},
   "outputs": [
    {
     "data": {
      "text/plain": [
       "Paitent Object concisting of 5 scans : UNNAMED_SERIES, Mediastinum, Lung, Lung_1.5, Mediastinum_1.5"
      ]
     },
     "execution_count": 12,
     "metadata": {},
     "output_type": "execute_result"
    }
   ],
   "source": [
    "Dataset_1.Subject_102"
   ]
  },
  {
   "cell_type": "markdown",
   "metadata": {},
   "source": [
    "We can have a closer look at the scans attributed to this patient."
   ]
  },
  {
   "cell_type": "code",
   "execution_count": 13,
   "metadata": {},
   "outputs": [
    {
     "data": {
      "text/plain": [
       "['UNNAMED_SERIES', 'Mediastinum', 'Lung', 'Lung_1.5', 'Mediastinum_1.5']"
      ]
     },
     "execution_count": 13,
     "metadata": {},
     "output_type": "execute_result"
    }
   ],
   "source": [
    "Dataset_1.Subject_102.scan_list"
   ]
  },
  {
   "cell_type": "markdown",
   "metadata": {},
   "source": [
    "Perhaps a more detailed description of each scan will help us understand what's going on here."
   ]
  },
  {
   "cell_type": "code",
   "execution_count": 14,
   "metadata": {},
   "outputs": [
    {
     "name": "stdout",
     "output_type": "stream",
     "text": [
      "Scan Object titled UNNAMED_SERIES, with dimensions (1, 512, 512)\n",
      "Scan Object titled Mediastinum, with dimensions (46, 512, 512)\n",
      "Scan Object titled Lung, with dimensions (37, 512, 512)\n",
      "Scan Object titled Lung_1.5, with dimensions (181, 512, 512)\n",
      "Scan Object titled Mediastinum_1.5, with dimensions (181, 512, 512)\n"
     ]
    }
   ],
   "source": [
    "for scan in Dataset_1.Subject_102:\n",
    "    print(scan)"
   ]
  },
  {
   "cell_type": "markdown",
   "metadata": {},
   "source": [
    "We now have a Dataset object that consists of 30 patients with at least four distinct scan objects each."
   ]
  },
  {
   "cell_type": "code",
   "execution_count": 15,
   "metadata": {},
   "outputs": [
    {
     "data": {
      "text/plain": [
       "30"
      ]
     },
     "execution_count": 15,
     "metadata": {},
     "output_type": "execute_result"
    }
   ],
   "source": [
    "Dataset_1.num_paitents"
   ]
  },
  {
   "cell_type": "markdown",
   "metadata": {},
   "source": [
    "Here we will quickly list the patients by their IDs to ensure they are all correct."
   ]
  },
  {
   "cell_type": "code",
   "execution_count": 16,
   "metadata": {},
   "outputs": [
    {
     "data": {
      "text/plain": [
       "['Subject_1009',\n",
       " 'Subject_1003',\n",
       " 'Subject_1000',\n",
       " 'Subject_1011',\n",
       " 'Subject_1018',\n",
       " 'Subject_1012',\n",
       " 'Subject_102',\n",
       " 'Subject_1016',\n",
       " 'Subject_10',\n",
       " 'Subject_1015',\n",
       " 'Subject_101',\n",
       " 'Subject_1021',\n",
       " 'Subject_1004',\n",
       " 'Subject_1022',\n",
       " 'Subject_1007',\n",
       " 'Subject_1023',\n",
       " 'Subject_1006',\n",
       " 'Subject_1020',\n",
       " 'Subject_1005',\n",
       " 'Subject_1014',\n",
       " 'Subject_100',\n",
       " 'Subject_1017',\n",
       " 'Subject_1019',\n",
       " 'Subject_1013',\n",
       " 'Subject_1',\n",
       " 'Subject_1010',\n",
       " 'Subject_1024',\n",
       " 'Subject_1001',\n",
       " 'Subject_1008',\n",
       " 'Subject_1002']"
      ]
     },
     "execution_count": 16,
     "metadata": {},
     "output_type": "execute_result"
    }
   ],
   "source": [
    "Dataset_1.paitent_list"
   ]
  },
  {
   "cell_type": "markdown",
   "metadata": {},
   "source": [
    "In order to demonstrate the composability of the Dataset, Patient and Scan objects, I have chosen to write these functions here. In the finished version, these and other similar functionality will have dedicated function calls, but these will serve as an example of the power enabled by the object-oriented approach."
   ]
  },
  {
   "cell_type": "markdown",
   "metadata": {},
   "source": [
    "First, let us create a directory of PNG slices for each patient scan titled \"LUNG\". This task takes six lines of code to complete (fancy progress bar included) and is highly customisable to allow a user to select precisely which patients and scans they desire."
   ]
  },
  {
   "cell_type": "code",
   "execution_count": 17,
   "metadata": {},
   "outputs": [
    {
     "name": "stderr",
     "output_type": "stream",
     "text": [
      "Creating PNG slices for Subject_1002 : LUNG: : 30it [00:17,  1.70it/s]\n"
     ]
    }
   ],
   "source": [
    "pbar = tqdm(Dataset_1)\n",
    "for paitent in pbar:\n",
    "    for scan in paitent:\n",
    "        if scan.title == \"LUNG\":\n",
    "            scan.Vol_to_slices(slice_output_root_dir)\n",
    "            pbar.set_description(f\"Creating PNG slices for {paitent._paitent_ID} : {scan.title}\")\n",
    "\n",
    "           "
   ]
  },
  {
   "cell_type": "markdown",
   "metadata": {},
   "source": [
    "Now we shall do the same thing, but instead of slices, let us generate a NIfti file for each of the \"LUNG\" scans."
   ]
  },
  {
   "cell_type": "code",
   "execution_count": 18,
   "metadata": {},
   "outputs": [
    {
     "name": "stderr",
     "output_type": "stream",
     "text": [
      "Creating Nifti file for Subject_1003 : LUNG: : 2it [00:06,  3.44s/it]"
     ]
    }
   ],
   "source": [
    "pbar = tqdm(Dataset_1)\n",
    "for paitent in pbar:\n",
    "    for scan in paitent:\n",
    "        if scan.title == \"LUNG\":\n",
    "            scan.write_nifti(nifti_output_root_dir)\n",
    "            pbar.set_description(f\"Creating Nifti file for {paitent._paitent_ID} : {scan.title}\")\n"
   ]
  }
 ],
 "metadata": {
  "kernelspec": {
   "display_name": "Python 3.9.13 ('ml2')",
   "language": "python",
   "name": "python3"
  },
  "language_info": {
   "codemirror_mode": {
    "name": "ipython",
    "version": 3
   },
   "file_extension": ".py",
   "mimetype": "text/x-python",
   "name": "python",
   "nbconvert_exporter": "python",
   "pygments_lexer": "ipython3",
   "version": "3.9.13"
  },
  "orig_nbformat": 4,
  "vscode": {
   "interpreter": {
    "hash": "5cd148e2076119ac64fab9a15ca7b87e9fa46b5c1a1899bbc8c1a2f25e710cd9"
   }
  }
 },
 "nbformat": 4,
 "nbformat_minor": 2
}
