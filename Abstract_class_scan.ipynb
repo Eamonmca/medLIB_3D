{
 "cells": [
  {
   "cell_type": "code",
   "execution_count": 1,
   "metadata": {},
   "outputs": [],
   "source": [
    "from turtle import title\n",
    "\n",
    "from attr import attrs\n",
    "from  Parsing.parse_funcs import *\n",
    "from Github_code.contrib_pydicom.input_output.pydicom_series import read_files as pread\n",
    "import numpy as np\n",
    "import nibabel\n",
    "import plotly.express as px\n",
    "import plotly.io as pio\n",
    "import cv2\n",
    "import os\n",
    "\n",
    "from abc import ABC, abstractmethod\n"
   ]
  },
  {
   "cell_type": "markdown",
   "metadata": {},
   "source": [
    "We need to make abstract methods for all the main classes and use them to control functionality. For example, the base class will be ScanClass, and from this, we will inherit to write subclasses for 2D and 3D images (ScanClass3D, ScanClass2D). These can further be subdivided into individual scan types, e.g. classes for Dicom and classes for Nifti scans (ScanClass3DNifti, ScanClass2Dxray etc.). Writing code this way should simplify extending functionality by defining a clear logic and inheritance and ensuring code is specific to avoid errors when using different functionality. For example, writing Dicom to Nifti has its own operations schema quite distinct from its inverse. The non-commutative nature of conversion (and often-times alterations or augmentations) means it is best to deal with these via an optimised and generalised process on a case-to-case basis. \n",
    "\n",
    "This means each ScanClass will have the methods such as to_dicom(), to_nifti(), to_slices() etc. This approach centred around ScanClass functionality allows for efficient data manipulation executed via interacting with larger Data-structures such as the SubjectClass, DatasetCLass or ExpirimentClass. This system also allows for more efficient ways to access methods (and properties) such as the ones shown above, a core tenant of this library's production is to allow for fast and intuitive exploratory analysis and data processing. We envisage a novice user should be able to interact with higher-level scripts to preform common tasks and a slightly more expirienced user could use or extend the code to more specific tasks.\n",
    "\n",
    "The codebase also forms much of the backend of various data visualisation options deployed in dash plotly. Scan objects scan be extended to encomposs the output of algorithims. This is particularily usefull in deep learning learning to store predicted segmentation masks, Grad-CAM mappings and input-output pairs to name a few. This allows minimal effort to visualise these volumes and allow specific functions to deal with paired scans.\n",
    "\n",
    "\n",
    "\n"
   ]
  },
  {
   "cell_type": "code",
   "execution_count": 2,
   "metadata": {},
   "outputs": [],
   "source": [
    "class ScanClass(ABC):\n",
    "    \n",
    "    def __init__(self, type, source, subject_ID):\n",
    "        \n",
    "        \"\"\"_summary_\n",
    "\n",
    "        Args:\n",
    "            type (_type_): _type of scan_\n",
    "            source (_type_): _source_\n",
    "            subject_ID (_type_): _description_\n",
    "        \"\"\"\n",
    "        \n",
    "        vol, pix_dim, affine = dicom_to_volume(dcm_series)\n",
    "        self.title = title\n",
    "        self.dcm_series = dcm_series\n",
    "        self.vol = vol\n",
    "        self.pix_dim = pix_dim\n",
    "        self.affine = affine"
   ]
  },
  {
   "cell_type": "code",
   "execution_count": null,
   "metadata": {},
   "outputs": [],
   "source": []
  }
 ],
 "metadata": {
  "kernelspec": {
   "display_name": "Python 3.9.13 ('ml2')",
   "language": "python",
   "name": "python3"
  },
  "language_info": {
   "codemirror_mode": {
    "name": "ipython",
    "version": 3
   },
   "file_extension": ".py",
   "mimetype": "text/x-python",
   "name": "python",
   "nbconvert_exporter": "python",
   "pygments_lexer": "ipython3",
   "version": "3.9.13"
  },
  "orig_nbformat": 4,
  "vscode": {
   "interpreter": {
    "hash": "5cd148e2076119ac64fab9a15ca7b87e9fa46b5c1a1899bbc8c1a2f25e710cd9"
   }
  }
 },
 "nbformat": 4,
 "nbformat_minor": 2
}
