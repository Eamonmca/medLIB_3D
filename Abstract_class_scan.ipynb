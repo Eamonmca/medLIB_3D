{
 "cells": [
  {
   "cell_type": "code",
   "execution_count": 1,
   "metadata": {},
   "outputs": [],
   "source": [
    "from turtle import title\n",
    "\n",
    "from attr import attrs\n",
    "from  Parsing.parse_funcs import *\n",
    "from Github_code.contrib_pydicom.input_output.pydicom_series import read_files as pread\n",
    "import numpy as np\n",
    "import nibabel\n",
    "import plotly.express as px\n",
    "import plotly.io as pio\n",
    "import cv2\n",
    "import os\n",
    "\n",
    "from abc import ABC, abstractmethod\n"
   ]
  },
  {
   "cell_type": "code",
   "execution_count": 2,
   "metadata": {},
   "outputs": [],
   "source": [
    "class Scan(ABC):\n",
    "    \n",
    "    def __init__(self, title, dcm_series):\n",
    "        vol, pix_dim, affine = dicom_to_volume(dcm_series)\n",
    "        self.title = title\n",
    "        self.dcm_series = dcm_series\n",
    "        self.vol = vol\n",
    "        self.pix_dim = pix_dim\n",
    "        self.affine = affine"
   ]
  },
  {
   "cell_type": "code",
   "execution_count": null,
   "metadata": {},
   "outputs": [],
   "source": []
  }
 ],
 "metadata": {
  "kernelspec": {
   "display_name": "Python 3.9.13 ('ml2')",
   "language": "python",
   "name": "python3"
  },
  "language_info": {
   "codemirror_mode": {
    "name": "ipython",
    "version": 3
   },
   "file_extension": ".py",
   "mimetype": "text/x-python",
   "name": "python",
   "nbconvert_exporter": "python",
   "pygments_lexer": "ipython3",
   "version": "3.9.13"
  },
  "orig_nbformat": 4,
  "vscode": {
   "interpreter": {
    "hash": "5cd148e2076119ac64fab9a15ca7b87e9fa46b5c1a1899bbc8c1a2f25e710cd9"
   }
  }
 },
 "nbformat": 4,
 "nbformat_minor": 2
}
